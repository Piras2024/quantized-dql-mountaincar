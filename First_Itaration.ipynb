{
  "nbformat": 4,
  "nbformat_minor": 0,
  "metadata": {
    "colab": {
      "provenance": [],
      "gpuType": "T4",
      "include_colab_link": true
    },
    "kernelspec": {
      "name": "python3",
      "display_name": "Python 3"
    },
    "language_info": {
      "name": "python"
    },
    "accelerator": "GPU"
  },
  "cells": [
    {
      "cell_type": "markdown",
      "metadata": {
        "id": "view-in-github",
        "colab_type": "text"
      },
      "source": [
        "<a href=\"https://colab.research.google.com/github/Piras2024/quantized-dql-mountaincar/blob/main/First_Itaration.ipynb\" target=\"_parent\"><img src=\"https://colab.research.google.com/assets/colab-badge.svg\" alt=\"Open In Colab\"/></a>"
      ]
    },
    {
      "cell_type": "code",
      "source": [
        "import gymnasium as gym\n",
        "from gymnasium.wrappers import RecordVideo\n",
        "import numpy as np\n",
        "import matplotlib.pyplot as plt\n",
        "from collections import deque\n",
        "import random\n",
        "import torch\n",
        "from torch import nn\n",
        "import torch.nn.functional as F"
      ],
      "metadata": {
        "id": "PCXLfbV5-ME5"
      },
      "execution_count": null,
      "outputs": []
    },
    {
      "cell_type": "code",
      "metadata": {
        "id": "efe2157c"
      },
      "source": [
        "# Define model\n",
        "class DQN(nn.Module):\n",
        "    def __init__(self, num_actions, input_dim):\n",
        "        super().__init__()\n",
        "\n",
        "        self.FC = nn.Sequential(\n",
        "            nn.Linear(input_dim, 12),\n",
        "            nn.ReLU(inplace=True),\n",
        "            nn.Linear(12, 8),\n",
        "            nn.ReLU(inplace=True),\n",
        "            nn.Linear(8, num_actions)\n",
        "            )\n",
        "\n",
        "        # Initialize FC layer weights using He initialization\n",
        "        for layer in [self.FC]:\n",
        "            for module in layer:\n",
        "                if isinstance(module, nn.Linear):\n",
        "                    nn.init.kaiming_uniform_(module.weight, nonlinearity='relu')\n",
        "\n",
        "    def forward(self, x):\n",
        "        Q = self.FC(x)\n",
        "        return Q\n",
        "\n",
        "# Define memory for Experience Replay\n",
        "class ReplayMemory():\n",
        "    def __init__(self, maxlen):\n",
        "        self.memory = deque([], maxlen=maxlen)\n",
        "\n",
        "    def append(self, transition):\n",
        "        self.memory.append(transition)\n",
        "\n",
        "    def sample(self, sample_size):\n",
        "        return random.sample(self.memory, sample_size)\n",
        "\n",
        "    def __len__(self):\n",
        "        return len(self.memory)"
      ],
      "execution_count": null,
      "outputs": []
    },
    {
      "cell_type": "code",
      "metadata": {
        "id": "f92191c5"
      },
      "source": [
        "# MountainCar Deep Q-Learning\n",
        "class MountainCarDQL():\n",
        "\n",
        "    loss_fn = nn.MSELoss()          # NN Loss function. MSE=Mean Squared Error can be swapped to something else.\n",
        "    optimizer = None                # NN Optimizer. Initialize later.\n",
        "\n",
        "    def __init__(self, learning_rate_a=75e-5, discount_factor_g=0.96, network_sync_rate=100, replay_memory_size=100000, mini_batch_size=64, num_discrete_actions=10, seed=None):\n",
        "        self.learning_rate_a = learning_rate_a\n",
        "        self.discount_factor_g = discount_factor_g\n",
        "        self.network_sync_rate = network_sync_rate\n",
        "        self.replay_memory_size = replay_memory_size\n",
        "        self.mini_batch_size = mini_batch_size\n",
        "        self.num_discrete_actions = num_discrete_actions\n",
        "        self.seed = seed\n",
        "\n",
        "        if self.seed is not None:\n",
        "            random.seed(self.seed)\n",
        "            np.random.seed(self.seed)\n",
        "            torch.manual_seed(self.seed)\n",
        "            if torch.cuda.is_available():\n",
        "                torch.cuda.manual_seed(self.seed)\n",
        "                torch.backends.cudnn.deterministic = True\n",
        "                torch.backends.cudnn.benchmark = False\n",
        "\n",
        "\n",
        "    # Train the environment\n",
        "    def train(self, episodes, render=False):\n",
        "        # Create MountainCarContinuous instance\n",
        "        env = gym.make('MountainCarContinuous-v0', render_mode='rgb_array')\n",
        "        # Wrap the environment with RecordVideo\n",
        "        env = gym.wrappers.RecordVideo(env, video_folder='mountaincar_train_video', episode_trigger=lambda x: x % 1000 == 0) # Record every 1000 episodes during training\n",
        "\n",
        "        # Set the seed for the environment\n",
        "        if self.seed is not None:\n",
        "            env.reset(seed=self.seed)\n",
        "\n",
        "\n",
        "        # Get continuous action space bounds\n",
        "        min_action = env.action_space.low[0]\n",
        "        max_action = env.action_space.high[0]\n",
        "\n",
        "        # Create discrete actions using linspace\n",
        "        self.discrete_actions = np.linspace(min_action, max_action, self.num_discrete_actions)\n",
        "\n",
        "        num_states = env.observation_space.shape[0] # expecting 2: position & velocity\n",
        "        num_actions = self.num_discrete_actions # Use the number of discrete actions\n",
        "\n",
        "        epsilon = 1 # 1 = 100% random actions\n",
        "        memory = ReplayMemory(self.replay_memory_size)\n",
        "\n",
        "        # Create policy and target network. Number of nodes in the hidden layer can be adjusted.\n",
        "        policy_dqn = DQN(input_dim=num_states, num_actions=num_actions)\n",
        "        target_dqn = DQN(input_dim=num_states, num_actions=num_actions)\n",
        "\n",
        "        # Make the target and policy networks the same (copy weights/biases from one network to the other)\n",
        "        target_dqn.load_state_dict(policy_dqn.state_dict())\n",
        "\n",
        "        # Policy network optimizer. \"Adam\" optimizer can be swapped to something else.\n",
        "        self.optimizer = torch.optim.Adam(policy_dqn.parameters(), lr=self.learning_rate_a)\n",
        "\n",
        "        # List to keep track of rewards collected per episode. Initialize list to 0's.\n",
        "        rewards_per_episode = []\n",
        "\n",
        "        # List to keep track of epsilon decay\n",
        "        epsilon_history = []\n",
        "\n",
        "        # Track number of steps taken. Used for syncing policy => target network.\n",
        "        step_count=0\n",
        "        best_rewards=-1000 # Adjusted initial best_rewards for continuous env\n",
        "        goal_reached=False\n",
        "\n",
        "        for i in range(episodes):\n",
        "\n",
        "            state = env.reset()[0]  # Initialize to state 0\n",
        "            terminated = False      # True when agent falls in hole or reached goal\n",
        "            truncated = False\n",
        "\n",
        "            rewards = 0\n",
        "\n",
        "            # Agent navigates map until it falls into hole/reaches goal (terminated), or has taken 200 actions (truncated).\n",
        "            while(not terminated and not truncated): # The reward threshold might need adjustment for continuous env\n",
        "\n",
        "                # Select action based on epsilon-greedy\n",
        "                if random.random() < epsilon:\n",
        "                    # select random action (index for discrete actions) uniformly\n",
        "                    action_index = random.randrange(self.num_discrete_actions)\n",
        "\n",
        "                else:\n",
        "                    # select best action (index for discrete actions)\n",
        "                    with torch.no_grad():\n",
        "                        # Use the continuous state as input and get the index of the best discrete action\n",
        "                        action_index = policy_dqn(self.state_to_dqn_input(state)).argmax().item()\n",
        "\n",
        "                # Map the discrete action index to the continuous action value\n",
        "                action = self.discrete_actions[action_index]\n",
        "\n",
        "                # Execute action - MountainCarContinuous expects a single value action in a list\n",
        "                new_state,reward,terminated,truncated,_ = env.step([action])\n",
        "\n",
        "                # Add a small negative reward at each timestep to discourage staying in the valley\n",
        "                reward -= 1\n",
        "\n",
        "                # Accumulate reward\n",
        "                rewards += reward\n",
        "\n",
        "                # Save experience into memory\n",
        "                memory.append((state, action_index, new_state, reward, terminated)) # Store action_index, not continuous action value\n",
        "\n",
        "                # Move to the next state\n",
        "                state = new_state\n",
        "\n",
        "                # Increment step counter\n",
        "                step_count+=1\n",
        "\n",
        "            # Keep track of the rewards collected per episode.\n",
        "            rewards_per_episode.append(rewards)\n",
        "\n",
        "            # Log reward per episode to wandb\n",
        "            wandb.log({\"reward_per_episode\": rewards}, step=i)\n",
        "\n",
        "\n",
        "            # Check if goal was reached\n",
        "            if(terminated):\n",
        "                goal_reached = True\n",
        "\n",
        "            # Graph training progress\n",
        "            if(i!=0 and i%1000==0):\n",
        "                print(f'Episode {i} Epsilon {epsilon}')\n",
        "\n",
        "                #self.plot_progress(rewards_per_episode, epsilon_history)\n",
        "                #torch.save(policy_dqn.state_dict(), f\"mountaincar_autosave_dql_{i}.pt\")\n",
        "\n",
        "\n",
        "            if rewards>best_rewards:\n",
        "                best_rewards = rewards\n",
        "                print(f'Best rewards so far: {best_rewards}')\n",
        "                # Save policy\n",
        "                torch.save(policy_dqn.state_dict(), f\"mountaincar_dql_{i}.pt\")\n",
        "\n",
        "\n",
        "            # Check if enough experience has been collected AND goal was reached in this episode\n",
        "            if len(memory)>self.mini_batch_size and goal_reached: # Restored 'and goal_reached'\n",
        "                mini_batch = memory.sample(self.mini_batch_size) # Use mini_batch_size for sampling\n",
        "                self.optimize(mini_batch, policy_dqn, target_dqn)\n",
        "\n",
        "                # Decay epsilon\n",
        "                epsilon = max(epsilon - 1/episodes, 0)\n",
        "                epsilon_history.append(epsilon)\n",
        "\n",
        "                # Log epsilon to wandb\n",
        "                wandb.log({\"epsilon\": epsilon}, step=i)\n",
        "\n",
        "                # Copy policy network to target network after a certain number of steps\n",
        "                if step_count > self.network_sync_rate:\n",
        "                    target_dqn.load_state_dict(policy_dqn.state_dict())\n",
        "                    step_count=0\n",
        "\n",
        "        # Close environment\n",
        "        env.close()\n",
        "    def plot_progress(self, rewards_per_episode, epsilon_history):\n",
        "        # Create new graph\n",
        "        plt.figure(1)\n",
        "\n",
        "        # Plot average rewards (Y-axis) vs episodes (X-axis)\n",
        "        # rewards_curve = np.zeros(len(rewards_per_episode))\n",
        "        # for x in range(len(rewards_per_episode)):\n",
        "            # rewards_curve[x] = np.min(rewards_per_episode[max(0, x-10):(x+1)])\n",
        "        plt.subplot(121) # plot on a 1 row x 2 col grid, at cell 1\n",
        "        # plt.plot(sum_rewards)\n",
        "        plt.plot(rewards_per_episode)\n",
        "\n",
        "        # Plot epsilon decay (Y-axis) vs episodes (X-axis)\n",
        "        plt.subplot(122) # plot on a 1 row x 2 col grid, at cell 2\n",
        "        plt.plot(epsilon_history)\n",
        "\n",
        "        # Save plots\n",
        "        plt.savefig('mountaincar_dql.png')\n",
        "    # Optimize policy network\n",
        "    def optimize(self, mini_batch, policy_dqn, target_dqn):\n",
        "\n",
        "        current_q_list = []\n",
        "        target_q_list = []\n",
        "\n",
        "        for state, action_index, new_state, reward, terminated in mini_batch: # Use action_index\n",
        "\n",
        "            if terminated:\n",
        "                # Agent receive reward of 0 for reaching goal.\n",
        "                # When in a terminated state, target q value should be set to the reward.\n",
        "                target = torch.FloatTensor([reward])\n",
        "            else:\n",
        "                # Calculate target q value\n",
        "                with torch.no_grad():\n",
        "                    # Use the continuous state as input\n",
        "                    target = torch.FloatTensor(\n",
        "                        reward + self.discount_factor_g * target_dqn(self.state_to_dqn_input(new_state)).max()\n",
        "                    )\n",
        "\n",
        "            # Get the current set of Q values\n",
        "            # Use the continuous state as input\n",
        "            current_q = policy_dqn(self.state_to_dqn_input(state))\n",
        "            current_q_list.append(current_q)\n",
        "\n",
        "            # Get the target set of Q values\n",
        "            # Use the continuous state as input\n",
        "            target_q = target_dqn(self.state_to_dqn_input(state))\n",
        "            # Adjust the specific action (index) to the target that was just calculated\n",
        "            target_q[action_index] = target\n",
        "            target_q_list.append(target_q)\n",
        "\n",
        "        # Compute loss for the whole minibatch\n",
        "        loss = self.loss_fn(torch.stack(current_q_list), torch.stack(target_q_list))\n",
        "\n",
        "        # Optimize the model\n",
        "        self.optimizer.zero_grad()\n",
        "        loss.backward()\n",
        "        self.optimizer.step()\n",
        "\n",
        "    '''\n",
        "    Converts a state (position, velocity) to tensor representation for continuous observation space.\n",
        "    Example:\n",
        "    Input = (0.3, -0.03)\n",
        "    Return = tensor([0.3, -0.03])\n",
        "    '''\n",
        "    def state_to_dqn_input(self, state)->torch.Tensor:\n",
        "        # The state is already a NumPy array [position, velocity]\n",
        "        # Convert it directly to a PyTorch FloatTensor\n",
        "        return torch.FloatTensor(state)\n",
        "\n",
        "    # Run the environment with the learned policy\n",
        "    def test(self, episodes, model_filepath):\n",
        "        # Create FrozenLake instance\n",
        "        # Wrap the environment with RecordVideo\n",
        "        env = gym.make('MountainCarContinuous-v0', render_mode='rgb_array')\n",
        "        env = gym.wrappers.RecordVideo(env, video_folder='mountaincar_test_video', episode_trigger=lambda x: True) # Record every episode\n",
        "\n",
        "        # Set the seed for the environment\n",
        "        #if self.seed is not None:\n",
        "        #    env.reset(seed=self.seed)\n",
        "\n",
        "        # Get continuous action space bounds\n",
        "        min_action = env.action_space.low[0]\n",
        "        max_action = env.action_space.high[0]\n",
        "\n",
        "        # Create discrete actions using linspace\n",
        "        self.discrete_actions = np.linspace(min_action, max_action, self.num_discrete_actions)\n",
        "\n",
        "\n",
        "        num_states = env.observation_space.shape[0]\n",
        "        num_actions = self.num_discrete_actions # Use the number of discrete actions\n",
        "\n",
        "\n",
        "        # Divide position and velocity into segments - No longer needed for continuous observation space\n",
        "        # self.pos_space = np.linspace(env.observation_space.low[0], env.observation_space.high[0], self.num_divisions)    # Between -1.2 and 0.6\n",
        "        # self.vel_space = np.linspace(env.observation_space.low[1], env.observation_space.high[1], self.num_divisions)    # Between -0.07 and 0.07\n",
        "\n",
        "\n",
        "        # Load learned policy\n",
        "        policy_dqn = DQN(input_dim=num_states, num_actions=num_actions)\n",
        "        policy_dqn.load_state_dict(torch.load(model_filepath))\n",
        "        policy_dqn.eval()    # switch model to evaluation mode\n",
        "\n",
        "        total_test_rewards = 0\n",
        "        test_rewards_list = []\n",
        "        for i in range(episodes):\n",
        "            state = env.reset()[0]  # Initialize to state 0\n",
        "            terminated = False      # True when agent falls in hole or reached goal\n",
        "            truncated = False       # True when agent takes more than 200 actions\n",
        "            rewards = 0\n",
        "\n",
        "            # Agent navigates map until it falls into a hole (terminated), reaches goal (terminated), or has taken 200 actions (truncated).\n",
        "            while(not terminated and not truncated):\n",
        "                # Select best action (index)\n",
        "                with torch.no_grad():\n",
        "                    # Use the continuous state as input and get the index of the best discrete action\n",
        "                    action_index = policy_dqn(self.state_to_dqn_input(state)).argmax().item()\n",
        "\n",
        "                # Map the discrete action index to the continuous action value\n",
        "                action = self.discrete_actions[action_index]\n",
        "\n",
        "                # Execute action - MountainCarContinuous expects a single value action in a list\n",
        "                state,reward,terminated,truncated,_ = env.step([action])\n",
        "                rewards += reward\n",
        "\n",
        "            total_test_rewards += rewards\n",
        "            test_rewards_list.append(rewards)\n",
        "\n",
        "            # Check if the goal was reached (terminated without truncation)\n",
        "            # MountainCarContinuous-v0 terminates when the flag is reached (position >= 0.5)\n",
        "            if terminated:\n",
        "                print(f\"Episode {i+1}: Goal Reached! Reward: {rewards}\")\n",
        "            elif truncated:\n",
        "                print(f\"Episode {i+1}: Episode truncated (did not reach goal). Reward: {rewards}\")\n",
        "            else: # This case should not happen in MountainCarContinuous if not truncated\n",
        "                 print(f\"Episode {i+1}: Episode terminated unexpectedly. Reward: {rewards}\")\n",
        "\n",
        "        # Calculate and Log average test reward to wandb\n",
        "        if episodes > 0:\n",
        "            avg_test_reward = total_test_rewards / episodes\n",
        "            wandb.log({\"average_test_reward\": avg_test_reward})\n",
        "            print(f\"Average test reward over {episodes} episodes: {avg_test_reward}\")\n",
        "        else:\n",
        "            print(\"No test episodes run.\")\n",
        "\n",
        "        # Log test videos to wandb\n",
        "        # Assuming videos are saved in 'mountaincar_test_video' directory\n",
        "        # Wandb can log video files directly.\n",
        "        # We need to find the video files generated during this test run.\n",
        "        # The RecordVideo wrapper names videos based on the episode index.\n",
        "        video_files = glob.glob('mountaincar_test_video/rl-video-episode-*.mp4')\n",
        "        if video_files:\n",
        "            print(f\"Logging {len(video_files)} test videos to wandb.\")\n",
        "            for video_file in video_files:\n",
        "                wandb.log({\"test_video\": wandb.Video(video_file)})\n",
        "        else:\n",
        "            print(\"No test videos found to log.\")\n",
        "\n",
        "\n",
        "        env.close()"
      ],
      "execution_count": null,
      "outputs": []
    },
    {
      "cell_type": "code",
      "metadata": {
        "colab": {
          "base_uri": "https://localhost:8080/"
        },
        "id": "3517fdf4",
        "outputId": "58395278-df3c-44f2-b6f0-d6b4aaace100"
      },
      "source": [
        "import glob\n",
        "import os\n",
        "\n",
        "# Pattern per i file da cancellare\n",
        "file_pattern = \"mountaincar_*.pt\"\n",
        "\n",
        "# Trova tutti i file che corrispondono al pattern\n",
        "files_to_delete = glob.glob(file_pattern)\n",
        "\n",
        "# Itera sui file trovati e cancellali\n",
        "for file_path in files_to_delete:\n",
        "    try:\n",
        "        os.remove(file_path)\n",
        "        print(f\"Deleted: {file_path}\")\n",
        "    except OSError as e:\n",
        "        print(f\"Error deleting {file_path}: {e}\")\n",
        "\n",
        "print(\"Finished deleting files.\")\n",
        "\n",
        "\n",
        "\n",
        "\n"
      ],
      "execution_count": null,
      "outputs": [
        {
          "output_type": "stream",
          "name": "stdout",
          "text": [
            "Finished deleting files.\n"
          ]
        }
      ]
    },
    {
      "cell_type": "markdown",
      "source": [
        "# Quantizzazione spazio delle azioni in 3 azioni"
      ],
      "metadata": {
        "id": "GwZV4d4eSMrM"
      }
    },
    {
      "cell_type": "code",
      "source": [
        "mountaincar = MountainCarDQL(num_discrete_actions=3, learning_rate_a=0.001, discount_factor_g=0.99, seed=2025)\n",
        "\n",
        "mountaincar.train(20000, False)"
      ],
      "metadata": {
        "colab": {
          "base_uri": "https://localhost:8080/",
          "height": 991
        },
        "id": "tTds2tqvwwBX",
        "outputId": "f39e3634-55ea-4302-a2e5-df9f25c72bfb"
      },
      "execution_count": null,
      "outputs": [
        {
          "output_type": "stream",
          "name": "stdout",
          "text": [
            "Best rewards so far: -874.0000000000093\n",
            "Best rewards so far: -661.9000000000067\n",
            "Best rewards so far: -549.8000000000051\n",
            "Best rewards so far: -465.40000000000384\n",
            "Best rewards so far: -379.80000000000257\n",
            "Episode 1000 Epsilon 0.9500500000000055\n",
            "Episode 2000 Epsilon 0.900050000000011\n",
            "Best rewards so far: -294.2000000000013\n",
            "Episode 3000 Epsilon 0.8500500000000165\n",
            "Episode 4000 Epsilon 0.800050000000022\n",
            "Episode 5000 Epsilon 0.7500500000000275\n",
            "Episode 6000 Epsilon 0.700050000000033\n",
            "Best rewards so far: -230.20000000000036\n",
            "Episode 7000 Epsilon 0.6500500000000385\n",
            "Episode 8000 Epsilon 0.600050000000044\n",
            "Episode 9000 Epsilon 0.5500500000000496\n",
            "Episode 10000 Epsilon 0.5000500000000551\n",
            "Episode 11000 Epsilon 0.45005000000006057\n",
            "Best rewards so far: -183.1999999999997\n",
            "Best rewards so far: -104.19999999999956\n",
            "Episode 12000 Epsilon 0.4000500000000661\n",
            "Best rewards so far: -99.69999999999962\n",
            "Best rewards so far: -89.69999999999965\n",
            "Episode 13000 Epsilon 0.3500500000000716\n",
            "Episode 14000 Epsilon 0.3000500000000771\n",
            "Episode 15000 Epsilon 0.2500500000000826\n",
            "Best rewards so far: -60.79999999999984\n",
            "Best rewards so far: -53.19999999999979\n",
            "Episode 16000 Epsilon 0.2000500000000881\n",
            "Best rewards so far: -36.39999999999978\n",
            "Episode 17000 Epsilon 0.1500500000000936\n",
            "Episode 18000 Epsilon 0.10005000000009912\n",
            "Episode 19000 Epsilon 0.050050000000102894\n"
          ]
        },
        {
          "output_type": "display_data",
          "data": {
            "text/plain": [
              "<Figure size 640x480 with 2 Axes>"
            ],
            "image/png": "[encoded data removed]"
          },
          "metadata": {}
        }
      ]
    },
    {
      "cell_type": "markdown",
      "metadata": {
        "id": "0d2363e5"
      },
      "source": [
        "**Reasoning**:\n",
        "The training has completed. Now, execute the test cell to evaluate the performance of the trained agent. Make sure to update the model filepath to the latest saved model if necessary.\n",
        "\n"
      ]
    },
    {
      "cell_type": "code",
      "metadata": {
        "colab": {
          "base_uri": "https://localhost:8080/"
        },
        "id": "a8147d03",
        "outputId": "fcf2cccf-69a5-45c7-e14b-1b088a6e173e"
      },
      "source": [
        "# Find the latest saved model file\n",
        "import glob\n",
        "import os\n",
        "\n",
        "list_of_files = glob.glob('mountaincar_dql_*.pt')\n",
        "if list_of_files:\n",
        "    latest_file = max(list_of_files, key=os.path.getctime)\n",
        "    print(f\"Using latest model file: {latest_file}\")\n",
        "else:\n",
        "    latest_file = None\n",
        "    print(\"No model files found. Cannot run test.\")\n",
        "\n",
        "if latest_file:\n",
        "    mountaincar.test(20, latest_file)\n",
        "else:\n",
        "    print(\"Test skipped due to missing model file.\")"
      ],
      "execution_count": null,
      "outputs": [
        {
          "output_type": "stream",
          "name": "stdout",
          "text": [
            "Using latest model file: mountaincar_dql_16009.pt\n",
            "Episode 1: Goal Reached! Reward: 86.70000000000003\n",
            "Episode 2: Goal Reached! Reward: 90.20000000000002\n",
            "Episode 3: Goal Reached! Reward: 90.20000000000002\n",
            "Episode 4: Goal Reached! Reward: 90.40000000000002\n",
            "Episode 5: Goal Reached! Reward: 88.30000000000003\n",
            "Episode 6: Goal Reached! Reward: 86.80000000000003\n",
            "Episode 7: Goal Reached! Reward: 90.20000000000002\n",
            "Episode 8: Goal Reached! Reward: 90.10000000000002\n",
            "Episode 9: Goal Reached! Reward: 86.80000000000003\n",
            "Episode 10: Goal Reached! Reward: 86.60000000000004\n",
            "Episode 11: Goal Reached! Reward: 86.80000000000003\n",
            "Episode 12: Goal Reached! Reward: 88.00000000000003\n",
            "Episode 13: Goal Reached! Reward: 88.00000000000003\n",
            "Episode 14: Goal Reached! Reward: 90.40000000000002\n",
            "Episode 15: Goal Reached! Reward: 86.40000000000003\n",
            "Episode 16: Goal Reached! Reward: 88.40000000000002\n",
            "Episode 17: Goal Reached! Reward: 86.30000000000004\n",
            "Episode 18: Goal Reached! Reward: 86.80000000000003\n",
            "Episode 19: Goal Reached! Reward: 88.30000000000003\n",
            "Episode 20: Goal Reached! Reward: 88.30000000000003\n"
          ]
        }
      ]
    },
    {
      "cell_type": "markdown",
      "source": [
        "In fase di test si osserva un reward massimo di 90.2\n"
      ],
      "metadata": {
        "id": "5HVo0Up8gODL"
      }
    },
    {
      "cell_type": "markdown",
      "source": [
        "# Quantizzazione dello spazio delle azioni in 10 azioni"
      ],
      "metadata": {
        "id": "O5jO8tARgZAU"
      }
    },
    {
      "cell_type": "code",
      "metadata": {
        "colab": {
          "base_uri": "https://localhost:8080/",
          "height": 205
        },
        "id": "8c8490b9",
        "outputId": "b09e727d-7c64-4775-ffac-adba8db73f0f"
      },
      "source": [
        "import wandb\n",
        "\n",
        "# Define hyperparameters\n",
        "hyperparameters = {\n",
        "    \"learning_rate_a\": 0.001,\n",
        "    \"discount_factor_g\": 0.99,\n",
        "    \"network_sync_rate\": 100,\n",
        "    \"replay_memory_size\": 100000,\n",
        "    \"mini_batch_size\": 64,\n",
        "    \"num_discrete_actions\": 10,\n",
        "    \"seed\": 2025\n",
        "}\n",
        "\n",
        "wandb.init(project=\"MountainCar DQL\", name=\"MountainCar_DQL_Run_10_Actions\", config=hyperparameters)"
      ],
      "execution_count": null,
      "outputs": [
        {
          "output_type": "display_data",
          "data": {
            "text/plain": [
              "<IPython.core.display.HTML object>"
            ],
            "text/html": [
              "Finishing previous runs because reinit is set to 'default'."
            ]
          },
          "metadata": {}
        },
        {
          "output_type": "display_data",
          "data": {
            "text/plain": [
              "<IPython.core.display.HTML object>"
            ],
            "text/html": []
          },
          "metadata": {}
        },
        {
          "output_type": "display_data",
          "data": {
            "text/plain": [
              "<IPython.core.display.HTML object>"
            ],
            "text/html": [
              " View run <strong style=\"color:#cdcd00\">ancient-wind-1</strong> at: <a href='https://wandb.ai/matteo-piras-universit-di-firenze/MountainCar%20DQL/runs/we1axs1u' target=\"_blank\">https://wandb.ai/matteo-piras-universit-di-firenze/MountainCar%20DQL/runs/we1axs1u</a><br> View project at: <a href='https://wandb.ai/matteo-piras-universit-di-firenze/MountainCar%20DQL' target=\"_blank\">https://wandb.ai/matteo-piras-universit-di-firenze/MountainCar%20DQL</a><br>Synced 5 W&B file(s), 0 media file(s), 0 artifact file(s) and 0 other file(s)"
            ]
          },
          "metadata": {}
        },
        {
          "output_type": "display_data",
          "data": {
            "text/plain": [
              "<IPython.core.display.HTML object>"
            ],
            "text/html": [
              "Find logs at: <code>./wandb/run-20250723_134250-we1axs1u/logs</code>"
            ]
          },
          "metadata": {}
        },
        {
          "output_type": "display_data",
          "data": {
            "text/plain": [
              "<IPython.core.display.HTML object>"
            ],
            "text/html": [
              "Tracking run with wandb version 0.21.0"
            ]
          },
          "metadata": {}
        },
        {
          "output_type": "display_data",
          "data": {
            "text/plain": [
              "<IPython.core.display.HTML object>"
            ],
            "text/html": [
              "Run data is saved locally in <code>/content/wandb/run-20250723_135020-vc8wx32n</code>"
            ]
          },
          "metadata": {}
        },
        {
          "output_type": "display_data",
          "data": {
            "text/plain": [
              "<IPython.core.display.HTML object>"
            ],
            "text/html": [
              "Syncing run <strong><a href='https://wandb.ai/matteo-piras-universit-di-firenze/MountainCar%20DQL/runs/vc8wx32n' target=\"_blank\">MountainCar_DQL_Run_10_Actions</a></strong> to <a href='https://wandb.ai/matteo-piras-universit-di-firenze/MountainCar%20DQL' target=\"_blank\">Weights & Biases</a> (<a href='https://wandb.me/developer-guide' target=\"_blank\">docs</a>)<br>"
            ]
          },
          "metadata": {}
        },
        {
          "output_type": "display_data",
          "data": {
            "text/plain": [
              "<IPython.core.display.HTML object>"
            ],
            "text/html": [
              " View project at <a href='https://wandb.ai/matteo-piras-universit-di-firenze/MountainCar%20DQL' target=\"_blank\">https://wandb.ai/matteo-piras-universit-di-firenze/MountainCar%20DQL</a>"
            ]
          },
          "metadata": {}
        },
        {
          "output_type": "display_data",
          "data": {
            "text/plain": [
              "<IPython.core.display.HTML object>"
            ],
            "text/html": [
              " View run at <a href='https://wandb.ai/matteo-piras-universit-di-firenze/MountainCar%20DQL/runs/vc8wx32n' target=\"_blank\">https://wandb.ai/matteo-piras-universit-di-firenze/MountainCar%20DQL/runs/vc8wx32n</a>"
            ]
          },
          "metadata": {}
        },
        {
          "output_type": "execute_result",
          "data": {
            "text/html": [
              "<button onClick=\"this.nextSibling.style.display='block';this.style.display='none';\">Display W&B run</button><iframe src='https://wandb.ai/matteo-piras-universit-di-firenze/MountainCar%20DQL/runs/vc8wx32n?jupyter=true' style='border:none;width:100%;height:420px;display:none;'></iframe>"
            ],
            "text/plain": [
              "<wandb.sdk.wandb_run.Run at 0x781591279950>"
            ]
          },
          "metadata": {},
          "execution_count": 11
        }
      ]
    },
    {
      "cell_type": "code",
      "source": [
        "import glob\n",
        "import os\n",
        "\n",
        "# Pattern per i file da cancellare\n",
        "file_pattern = \"mountaincar_*.pt\"\n",
        "\n",
        "# Trova tutti i file che corrispondono al pattern\n",
        "files_to_delete = glob.glob(file_pattern)\n",
        "\n",
        "# Itera sui file trovati e cancellali\n",
        "for file_path in files_to_delete:\n",
        "    try:\n",
        "        os.remove(file_path)\n",
        "        print(f\"Deleted: {file_path}\")\n",
        "    except OSError as e:\n",
        "        print(f\"Error deleting {file_path}: {e}\")\n",
        "\n",
        "print(\"Finished deleting files.\")"
      ],
      "metadata": {
        "colab": {
          "base_uri": "https://localhost:8080/"
        },
        "id": "1kK93DcuggKV",
        "outputId": "258056f8-8d4a-4775-d952-f213e2fa4324"
      },
      "execution_count": null,
      "outputs": [
        {
          "output_type": "stream",
          "name": "stdout",
          "text": [
            "Deleted: mountaincar_dql_2222.pt\n",
            "Deleted: mountaincar_autosave_dql_7000.pt\n",
            "Deleted: mountaincar_autosave_dql_3000.pt\n",
            "Deleted: mountaincar_autosave_dql_4000.pt\n",
            "Deleted: mountaincar_autosave_dql_8000.pt\n",
            "Deleted: mountaincar_autosave_dql_6000.pt\n",
            "Deleted: mountaincar_dql_15010.pt\n",
            "Deleted: mountaincar_autosave_dql_19000.pt\n",
            "Deleted: mountaincar_dql_11636.pt\n",
            "Deleted: mountaincar_dql_12679.pt\n",
            "Deleted: mountaincar_dql_12363.pt\n",
            "Deleted: mountaincar_autosave_dql_9000.pt\n",
            "Deleted: mountaincar_autosave_dql_5000.pt\n",
            "Deleted: mountaincar_dql_238.pt\n",
            "Deleted: mountaincar_autosave_dql_18000.pt\n",
            "Deleted: mountaincar_autosave_dql_14000.pt\n",
            "Deleted: mountaincar_dql_6427.pt\n",
            "Deleted: mountaincar_autosave_dql_1000.pt\n",
            "Deleted: mountaincar_dql_15013.pt\n",
            "Deleted: mountaincar_dql_143.pt\n",
            "Deleted: mountaincar_dql_11534.pt\n",
            "Deleted: mountaincar_autosave_dql_13000.pt\n",
            "Deleted: mountaincar_autosave_dql_11000.pt\n",
            "Deleted: mountaincar_autosave_dql_16000.pt\n",
            "Deleted: mountaincar_autosave_dql_15000.pt\n",
            "Deleted: mountaincar_dql_65.pt\n",
            "Deleted: mountaincar_autosave_dql_2000.pt\n",
            "Deleted: mountaincar_autosave_dql_10000.pt\n",
            "Deleted: mountaincar_dql_19.pt\n",
            "Deleted: mountaincar_autosave_dql_12000.pt\n",
            "Deleted: mountaincar_dql_1.pt\n",
            "Deleted: mountaincar_autosave_dql_17000.pt\n",
            "Deleted: mountaincar_dql_16009.pt\n",
            "Finished deleting files.\n"
          ]
        }
      ]
    },
    {
      "cell_type": "code",
      "source": [
        "mountaincar = MountainCarDQL(num_discrete_actions=10, learning_rate_a=0.001, discount_factor_g=0.99, seed=2025)\n",
        "\n",
        "mountaincar.train(20000, False)"
      ],
      "metadata": {
        "colab": {
          "base_uri": "https://localhost:8080/"
        },
        "id": "FIH6DcDHglbP",
        "outputId": "0360f88e-b2bd-4b9a-bbbe-6d04737d5b97"
      },
      "execution_count": null,
      "outputs": [
        {
          "output_type": "stream",
          "name": "stderr",
          "text": [
            "/usr/local/lib/python3.11/dist-packages/gymnasium/wrappers/rendering.py:296: UserWarning: \u001b[33mWARN: Overwriting existing videos at /content/mountaincar_train_video folder (try specifying a different `video_folder` for the `RecordVideo` wrapper if this is not desired)\u001b[0m\n",
            "  logger.warn(\n"
          ]
        },
        {
          "output_type": "stream",
          "name": "stdout",
          "text": [
            "Best rewards so far: -929.0691370393114\n",
            "Best rewards so far: -779.5481491676148\n",
            "Best rewards so far: -627.4345687779411\n",
            "Episode 1000 Epsilon 0.9505000000000055\n",
            "Best rewards so far: -585.0444452457979\n",
            "Best rewards so far: -408.5888894809612\n",
            "Best rewards so far: -307.18642029247087\n",
            "Episode 2000 Epsilon 0.900500000000011\n",
            "Episode 3000 Epsilon 0.8505000000000165\n",
            "Episode 4000 Epsilon 0.800500000000022\n",
            "Episode 5000 Epsilon 0.7505000000000275\n",
            "Episode 6000 Epsilon 0.700500000000033\n",
            "Episode 7000 Epsilon 0.6505000000000385\n",
            "Episode 8000 Epsilon 0.600500000000044\n",
            "Episode 9000 Epsilon 0.5505000000000495\n",
            "Episode 10000 Epsilon 0.500500000000055\n",
            "Episode 11000 Epsilon 0.4505000000000605\n",
            "Episode 12000 Epsilon 0.400500000000066\n",
            "Best rewards so far: -208.33950662642272\n",
            "Best rewards so far: -110.01604971326367\n",
            "Best rewards so far: -102.8000003019963\n",
            "Episode 13000 Epsilon 0.35050000000007153\n",
            "Episode 14000 Epsilon 0.30050000000007704\n",
            "Episode 15000 Epsilon 0.25050000000008255\n",
            "Episode 16000 Epsilon 0.20050000000008805\n",
            "Episode 17000 Epsilon 0.15050000000009356\n",
            "Episode 18000 Epsilon 0.10050000000009907\n",
            "Episode 19000 Epsilon 0.05050000000010291\n"
          ]
        }
      ]
    },
    {
      "cell_type": "code",
      "source": [
        "# Find the latest saved model file\n",
        "import glob\n",
        "import os\n",
        "\n",
        "list_of_files = glob.glob('mountaincar_dql_*.pt')\n",
        "if list_of_files:\n",
        "    latest_file = max(list_of_files, key=os.path.getctime)\n",
        "    print(f\"Using latest model file: {latest_file}\")\n",
        "else:\n",
        "    latest_file = None\n",
        "    print(\"No model files found. Cannot run test.\")\n",
        "\n",
        "if latest_file:\n",
        "    mountaincar.test(20, latest_file)\n",
        "else:\n",
        "    print(\"Test skipped due to missing model file.\")"
      ],
      "metadata": {
        "colab": {
          "base_uri": "https://localhost:8080/"
        },
        "id": "iJ8o7UO1viLj",
        "outputId": "447ac18f-7007-4e45-8313-e302e901af60"
      },
      "execution_count": null,
      "outputs": [
        {
          "output_type": "stream",
          "name": "stdout",
          "text": [
            "Using latest model file: mountaincar_dql_12870.pt\n"
          ]
        },
        {
          "output_type": "stream",
          "name": "stderr",
          "text": [
            "/usr/local/lib/python3.11/dist-packages/gymnasium/wrappers/rendering.py:296: UserWarning: \u001b[33mWARN: Overwriting existing videos at /content/mountaincar_test_video folder (try specifying a different `video_folder` for the `RecordVideo` wrapper if this is not desired)\u001b[0m\n",
            "  logger.warn(\n"
          ]
        },
        {
          "output_type": "stream",
          "name": "stdout",
          "text": [
            "Episode 1: Goal Reached! Reward: 93.72592558772477\n",
            "Episode 2: Goal Reached! Reward: 93.74938236048193\n",
            "Episode 3: Goal Reached! Reward: 93.81111076540418\n",
            "Episode 4: Goal Reached! Reward: 94.80493795444937\n",
            "Episode 5: Goal Reached! Reward: 95.71728371146284\n",
            "Episode 6: Goal Reached! Reward: 95.51357999363063\n",
            "Episode 7: Goal Reached! Reward: 95.85925902834644\n",
            "Episode 8: Goal Reached! Reward: 93.69876507461808\n",
            "Episode 9: Goal Reached! Reward: 93.71975275425265\n",
            "Episode 10: Goal Reached! Reward: 95.89876520177464\n",
            "Episode 11: Goal Reached! Reward: 93.81111076540418\n",
            "Episode 12: Goal Reached! Reward: 95.92098742929505\n",
            "Episode 13: Goal Reached! Reward: 93.77037001627464\n",
            "Episode 14: Goal Reached! Reward: 93.75802435992678\n",
            "Episode 15: Goal Reached! Reward: 95.92098742929505\n",
            "Episode 16: Goal Reached! Reward: 93.76049347424214\n",
            "Episode 17: Goal Reached! Reward: 93.71851815735853\n",
            "Episode 18: Goal Reached! Reward: 95.8296293956262\n",
            "Episode 19: Goal Reached! Reward: 93.84197496587849\n"
          ]
        },
        {
          "output_type": "stream",
          "name": "stderr",
          "text": [
            "\u001b[34m\u001b[1mwandb\u001b[0m: \u001b[33mWARNING\u001b[0m `format` argument was not provided, defaulting to `gif`. This parameter will be required in v0.20.0, please specify the format explicitly.\n"
          ]
        },
        {
          "output_type": "stream",
          "name": "stdout",
          "text": [
            "Episode 20: Goal Reached! Reward: 93.72716013163698\n",
            "Average test reward over 20 episodes: 94.52790092785419\n",
            "Logging 21 test videos to wandb.\n"
          ]
        },
        {
          "output_type": "stream",
          "name": "stderr",
          "text": [
            "\u001b[34m\u001b[1mwandb\u001b[0m: \u001b[33mWARNING\u001b[0m `format` argument was not provided, defaulting to `gif`. This parameter will be required in v0.20.0, please specify the format explicitly.\n",
            "\u001b[34m\u001b[1mwandb\u001b[0m: \u001b[33mWARNING\u001b[0m `format` argument was not provided, defaulting to `gif`. This parameter will be required in v0.20.0, please specify the format explicitly.\n",
            "\u001b[34m\u001b[1mwandb\u001b[0m: \u001b[33mWARNING\u001b[0m `format` argument was not provided, defaulting to `gif`. This parameter will be required in v0.20.0, please specify the format explicitly.\n",
            "\u001b[34m\u001b[1mwandb\u001b[0m: \u001b[33mWARNING\u001b[0m `format` argument was not provided, defaulting to `gif`. This parameter will be required in v0.20.0, please specify the format explicitly.\n",
            "\u001b[34m\u001b[1mwandb\u001b[0m: \u001b[33mWARNING\u001b[0m `format` argument was not provided, defaulting to `gif`. This parameter will be required in v0.20.0, please specify the format explicitly.\n",
            "\u001b[34m\u001b[1mwandb\u001b[0m: \u001b[33mWARNING\u001b[0m `format` argument was not provided, defaulting to `gif`. This parameter will be required in v0.20.0, please specify the format explicitly.\n",
            "\u001b[34m\u001b[1mwandb\u001b[0m: \u001b[33mWARNING\u001b[0m `format` argument was not provided, defaulting to `gif`. This parameter will be required in v0.20.0, please specify the format explicitly.\n",
            "\u001b[34m\u001b[1mwandb\u001b[0m: \u001b[33mWARNING\u001b[0m `format` argument was not provided, defaulting to `gif`. This parameter will be required in v0.20.0, please specify the format explicitly.\n",
            "\u001b[34m\u001b[1mwandb\u001b[0m: \u001b[33mWARNING\u001b[0m `format` argument was not provided, defaulting to `gif`. This parameter will be required in v0.20.0, please specify the format explicitly.\n",
            "\u001b[34m\u001b[1mwandb\u001b[0m: \u001b[33mWARNING\u001b[0m `format` argument was not provided, defaulting to `gif`. This parameter will be required in v0.20.0, please specify the format explicitly.\n",
            "\u001b[34m\u001b[1mwandb\u001b[0m: \u001b[33mWARNING\u001b[0m `format` argument was not provided, defaulting to `gif`. This parameter will be required in v0.20.0, please specify the format explicitly.\n",
            "\u001b[34m\u001b[1mwandb\u001b[0m: \u001b[33mWARNING\u001b[0m `format` argument was not provided, defaulting to `gif`. This parameter will be required in v0.20.0, please specify the format explicitly.\n",
            "\u001b[34m\u001b[1mwandb\u001b[0m: \u001b[33mWARNING\u001b[0m `format` argument was not provided, defaulting to `gif`. This parameter will be required in v0.20.0, please specify the format explicitly.\n",
            "\u001b[34m\u001b[1mwandb\u001b[0m: \u001b[33mWARNING\u001b[0m `format` argument was not provided, defaulting to `gif`. This parameter will be required in v0.20.0, please specify the format explicitly.\n",
            "\u001b[34m\u001b[1mwandb\u001b[0m: \u001b[33mWARNING\u001b[0m `format` argument was not provided, defaulting to `gif`. This parameter will be required in v0.20.0, please specify the format explicitly.\n",
            "\u001b[34m\u001b[1mwandb\u001b[0m: \u001b[33mWARNING\u001b[0m `format` argument was not provided, defaulting to `gif`. This parameter will be required in v0.20.0, please specify the format explicitly.\n",
            "\u001b[34m\u001b[1mwandb\u001b[0m: \u001b[33mWARNING\u001b[0m `format` argument was not provided, defaulting to `gif`. This parameter will be required in v0.20.0, please specify the format explicitly.\n",
            "\u001b[34m\u001b[1mwandb\u001b[0m: \u001b[33mWARNING\u001b[0m `format` argument was not provided, defaulting to `gif`. This parameter will be required in v0.20.0, please specify the format explicitly.\n",
            "\u001b[34m\u001b[1mwandb\u001b[0m: \u001b[33mWARNING\u001b[0m `format` argument was not provided, defaulting to `gif`. This parameter will be required in v0.20.0, please specify the format explicitly.\n",
            "\u001b[34m\u001b[1mwandb\u001b[0m: \u001b[33mWARNING\u001b[0m `format` argument was not provided, defaulting to `gif`. This parameter will be required in v0.20.0, please specify the format explicitly.\n"
          ]
        }
      ]
    },
    {
      "cell_type": "markdown",
      "source": [
        "Con 10 Azioni si osserva un avg reward di 94.5 su 20 tests"
      ],
      "metadata": {
        "id": "UgDvAl3KwLNR"
      }
    }
  ]
}